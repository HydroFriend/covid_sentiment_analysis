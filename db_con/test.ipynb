{
 "cells": [
  {
   "cell_type": "code",
   "execution_count": 47,
   "metadata": {
    "collapsed": true
   },
   "outputs": [],
   "source": [
    "import pandas as pd\n"
   ]
  },
  {
   "cell_type": "code",
   "execution_count": 48,
   "outputs": [],
   "source": [
    "df = pd.read_csv(r\"D:\\covid research\\all\\2020-04-en.csv\")\n"
   ],
   "metadata": {
    "collapsed": false
   }
  },
  {
   "cell_type": "code",
   "execution_count": 49,
   "outputs": [
    {
     "data": {
      "text/plain": "Index(['Unnamed: 0.1', 'Unnamed: 0', 'created_at', 'id_str', 'text', 'user',\n       'lang', 'favorite_count', 'retweet_count', 'quote_count', 'location',\n       'country', 'day', 'hour', 'Anger', 'Anticipation', 'Disgust', 'Fear',\n       'Joy', 'Sadness', 'Surprise', 'Trust', 'sentiment'],\n      dtype='object')"
     },
     "execution_count": 49,
     "metadata": {},
     "output_type": "execute_result"
    }
   ],
   "source": [
    "df.columns\n"
   ],
   "metadata": {
    "collapsed": false
   }
  },
  {
   "cell_type": "code",
   "execution_count": 50,
   "outputs": [
    {
     "name": "stdout",
     "output_type": "stream",
     "text": [
      "BuckyBarnes\n"
     ]
    }
   ],
   "source": [
    "import re\n",
    "# string with letters, numbers, and special characters\n",
    "s = \"BuckyBarnes\\r\"\n",
    "# keep only letters\n",
    "res = re.sub(r'[^a-zA-Z]', '', s)\n",
    "print(res)\n"
   ],
   "metadata": {
    "collapsed": false
   }
  },
  {
   "cell_type": "code",
   "execution_count": 51,
   "outputs": [
    {
     "data": {
      "text/plain": "Index(['Unnamed', 'Unnamed', 'created_at', 'id_str', 'text', 'user', 'lang',\n       'favorite_count', 'retweet_count', 'quote_count', 'location', 'country',\n       'day', 'hour', 'Anger', 'Anticipation', 'Disgust', 'Fear', 'Joy',\n       'Sadness', 'Surprise', 'Trust', 'sentiment'],\n      dtype='object')"
     },
     "execution_count": 51,
     "metadata": {},
     "output_type": "execute_result"
    }
   ],
   "source": [
    "df.columns.str.replace(r'[^a-zA-Z_]*$', '', regex=True)\n"
   ],
   "metadata": {
    "collapsed": false
   }
  },
  {
   "cell_type": "code",
   "execution_count": 54,
   "outputs": [
    {
     "data": {
      "text/plain": "        Unnamed: 0.1  Unnamed: 0           created_at               id_str  \\\n78582          78582       78582  2020-04-04 06-29-02  1246323877636190208   \n106930        106930      106930  2020-04-04 06-29-02  1246323877636190208   \n\n                                                     text  \\\n78582   rt teamtrump insurance able receive coronaviru...   \n106930  rt teamtrump insurance able receive coronaviru...   \n\n                                                     user lang  \\\n78582   {'id': 94282717, 'id_str': '94282717', 'name':...   en   \n106930  {'id': 94282717, 'id_str': '94282717', 'name':...   en   \n\n        favorite_count  retweet_count  quote_count  ... hour Anger  \\\n78582              0.0            0.0          0.0  ...    6     0   \n106930             0.0            0.0          0.0  ...    6     0   \n\n       Anticipation  Disgust  Fear  Joy  Sadness  Surprise  Trust  sentiment  \n78582             1        0     2    0        2         0      1          4  \n106930            1        0     2    0        2         0      1          4  \n\n[2 rows x 23 columns]",
      "text/html": "<div>\n<style scoped>\n    .dataframe tbody tr th:only-of-type {\n        vertical-align: middle;\n    }\n\n    .dataframe tbody tr th {\n        vertical-align: top;\n    }\n\n    .dataframe thead th {\n        text-align: right;\n    }\n</style>\n<table border=\"1\" class=\"dataframe\">\n  <thead>\n    <tr style=\"text-align: right;\">\n      <th></th>\n      <th>Unnamed: 0.1</th>\n      <th>Unnamed: 0</th>\n      <th>created_at</th>\n      <th>id_str</th>\n      <th>text</th>\n      <th>user</th>\n      <th>lang</th>\n      <th>favorite_count</th>\n      <th>retweet_count</th>\n      <th>quote_count</th>\n      <th>...</th>\n      <th>hour</th>\n      <th>Anger</th>\n      <th>Anticipation</th>\n      <th>Disgust</th>\n      <th>Fear</th>\n      <th>Joy</th>\n      <th>Sadness</th>\n      <th>Surprise</th>\n      <th>Trust</th>\n      <th>sentiment</th>\n    </tr>\n  </thead>\n  <tbody>\n    <tr>\n      <th>78582</th>\n      <td>78582</td>\n      <td>78582</td>\n      <td>2020-04-04 06-29-02</td>\n      <td>1246323877636190208</td>\n      <td>rt teamtrump insurance able receive coronaviru...</td>\n      <td>{'id': 94282717, 'id_str': '94282717', 'name':...</td>\n      <td>en</td>\n      <td>0.0</td>\n      <td>0.0</td>\n      <td>0.0</td>\n      <td>...</td>\n      <td>6</td>\n      <td>0</td>\n      <td>1</td>\n      <td>0</td>\n      <td>2</td>\n      <td>0</td>\n      <td>2</td>\n      <td>0</td>\n      <td>1</td>\n      <td>4</td>\n    </tr>\n    <tr>\n      <th>106930</th>\n      <td>106930</td>\n      <td>106930</td>\n      <td>2020-04-04 06-29-02</td>\n      <td>1246323877636190208</td>\n      <td>rt teamtrump insurance able receive coronaviru...</td>\n      <td>{'id': 94282717, 'id_str': '94282717', 'name':...</td>\n      <td>en</td>\n      <td>0.0</td>\n      <td>0.0</td>\n      <td>0.0</td>\n      <td>...</td>\n      <td>6</td>\n      <td>0</td>\n      <td>1</td>\n      <td>0</td>\n      <td>2</td>\n      <td>0</td>\n      <td>2</td>\n      <td>0</td>\n      <td>1</td>\n      <td>4</td>\n    </tr>\n  </tbody>\n</table>\n<p>2 rows × 23 columns</p>\n</div>"
     },
     "execution_count": 54,
     "metadata": {},
     "output_type": "execute_result"
    }
   ],
   "source": [
    "df.loc[df[\"id_str\"]==1246323877636190208]\n"
   ],
   "metadata": {
    "collapsed": false
   }
  },
  {
   "cell_type": "code",
   "execution_count": null,
   "outputs": [],
   "source": [],
   "metadata": {
    "collapsed": false
   }
  }
 ],
 "metadata": {
  "kernelspec": {
   "display_name": "Python 3",
   "language": "python",
   "name": "python3"
  },
  "language_info": {
   "codemirror_mode": {
    "name": "ipython",
    "version": 2
   },
   "file_extension": ".py",
   "mimetype": "text/x-python",
   "name": "python",
   "nbconvert_exporter": "python",
   "pygments_lexer": "ipython2",
   "version": "2.7.6"
  }
 },
 "nbformat": 4,
 "nbformat_minor": 0
}
